{
  "nbformat": 4,
  "nbformat_minor": 0,
  "metadata": {
    "colab": {
      "provenance": []
    },
    "kernelspec": {
      "name": "python3",
      "display_name": "Python 3"
    },
    "language_info": {
      "name": "python"
    }
  },
  "cells": [
    {
      "cell_type": "code",
      "source": [
        "paid_by_tom = 15"
      ],
      "metadata": {
        "id": "in6ngDkazg7V"
      },
      "execution_count": 3,
      "outputs": []
    },
    {
      "cell_type": "code",
      "execution_count": 136,
      "metadata": {
        "id": "4lYofZfWy7Kj"
      },
      "outputs": [],
      "source": [
        "bill_items = [\n",
        "    ['Tom', 'Calamari', 6.00],\n",
        "    ['Tom', 'American Hot', 11.50],\n",
        "    ['Tom', 'Chocolate Fudge Cake', 4.45],\n",
        "    ['Clare', 'Bruschetta Originale', 5.35],\n",
        "    ['Clare', 'Fiorentina', 10.65],\n",
        "    ['Clare', 'Tiramasu', 4.90],\n",
        "    ['Rich', 'Bruschetta Originale', 5.35],\n",
        "    ['Rich', 'La Reine', 10.65],\n",
        "    ['Rich', 'Honeycomb Cream Slice', 4.90],\n",
        "    ['Rosie', 'Garlic Bread', 4.35],\n",
        "    ['Rosie', 'Veneziana', 9.40],\n",
        "    ['Rosie', 'Tiramasu', 4.90],\n",
        "]"
      ]
    },
    {
      "cell_type": "code",
      "source": [
        "things_that_were_eaten = []\n",
        "\n",
        "for bag in bill_items:\n",
        "    things_that_were_eaten.append(bag[1])"
      ],
      "metadata": {
        "id": "zqK83i2D7CEk"
      },
      "execution_count": 139,
      "outputs": []
    },
    {
      "cell_type": "code",
      "source": [
        "things_that_were_eaten"
      ],
      "metadata": {
        "colab": {
          "base_uri": "https://localhost:8080/"
        },
        "id": "GsHFpPcjHcTn",
        "outputId": "1b452568-504d-436d-d08b-869df2e8544e"
      },
      "execution_count": 140,
      "outputs": [
        {
          "output_type": "execute_result",
          "data": {
            "text/plain": [
              "['Calamari',\n",
              " 'American Hot',\n",
              " 'Chocolate Fudge Cake',\n",
              " 'Bruschetta Originale',\n",
              " 'Fiorentina',\n",
              " 'Tiramasu',\n",
              " 'Bruschetta Originale',\n",
              " 'La Reine',\n",
              " 'Honeycomb Cream Slice',\n",
              " 'Garlic Bread',\n",
              " 'Veneziana',\n",
              " 'Tiramasu']"
            ]
          },
          "metadata": {},
          "execution_count": 140
        }
      ]
    },
    {
      "cell_type": "code",
      "source": [
        "# for eat in things_that_were_eaten:\n",
        "#     removed_item = things_that_were_eaten.pop(0)\n",
        "#     print(removed_item)\n",
        "#     print(eat)"
      ],
      "metadata": {
        "colab": {
          "base_uri": "https://localhost:8080/"
        },
        "id": "72idZjkj7-Yf",
        "outputId": "2ec4a41b-f761-460c-9d67-c9766e6ef81e"
      },
      "execution_count": 135,
      "outputs": [
        {
          "output_type": "stream",
          "name": "stdout",
          "text": [
            "Calamari\n",
            "Calamari\n",
            "American Hot\n",
            "Chocolate Fudge Cake\n",
            "Chocolate Fudge Cake\n",
            "Fiorentina\n",
            "Bruschetta Originale\n",
            "Bruschetta Originale\n",
            "Fiorentina\n",
            "Honeycomb Cream Slice\n",
            "Tiramasu\n",
            "Veneziana\n"
          ]
        }
      ]
    },
    {
      "cell_type": "code",
      "source": [
        "for num in range(len(things_that_were_eaten)):\n",
        "    removed_item = things_that_were_eaten.pop(0)\n",
        "    if removed_item in things_that_were_eaten:\n",
        "        print(removed_item)"
      ],
      "metadata": {
        "colab": {
          "base_uri": "https://localhost:8080/"
        },
        "id": "A6q8popRDmUd",
        "outputId": "c680ed79-136a-43cd-a5a8-ad750c2aa3b2"
      },
      "execution_count": 138,
      "outputs": [
        {
          "output_type": "stream",
          "name": "stdout",
          "text": [
            "Bruschetta Originale\n",
            "Tiramasu\n"
          ]
        }
      ]
    },
    {
      "cell_type": "code",
      "source": [],
      "metadata": {
        "id": "Tt9qDz0SGo9J"
      },
      "execution_count": null,
      "outputs": []
    },
    {
      "cell_type": "code",
      "source": [],
      "metadata": {
        "id": "cSnLX5wQGoxj"
      },
      "execution_count": null,
      "outputs": []
    },
    {
      "cell_type": "code",
      "source": [],
      "metadata": {
        "id": "dj6GceTdGojB"
      },
      "execution_count": null,
      "outputs": []
    },
    {
      "cell_type": "code",
      "source": [
        "things_that_were_eaten"
      ],
      "metadata": {
        "colab": {
          "base_uri": "https://localhost:8080/"
        },
        "id": "HsCzHPOpF8Wu",
        "outputId": "1604aa5a-9cf8-4897-8a60-1f26a1d24d03"
      },
      "execution_count": 132,
      "outputs": [
        {
          "output_type": "execute_result",
          "data": {
            "text/plain": [
              "[]"
            ]
          },
          "metadata": {},
          "execution_count": 132
        }
      ]
    },
    {
      "cell_type": "code",
      "source": [
        "a = [1,2]\n",
        "a.pop(1)\n",
        "a"
      ],
      "metadata": {
        "colab": {
          "base_uri": "https://localhost:8080/"
        },
        "id": "8sVC-rarDWTG",
        "outputId": "c3ac11f5-1878-454c-e86f-c9afcfa3ba8d"
      },
      "execution_count": 106,
      "outputs": [
        {
          "output_type": "execute_result",
          "data": {
            "text/plain": [
              "[2]"
            ]
          },
          "metadata": {},
          "execution_count": 106
        }
      ]
    },
    {
      "cell_type": "code",
      "source": [
        "a = [1,2,3]"
      ],
      "metadata": {
        "id": "EW04Pc7v-1fr"
      },
      "execution_count": 80,
      "outputs": []
    },
    {
      "cell_type": "code",
      "source": [
        "b = []"
      ],
      "metadata": {
        "id": "L-Yb9yAB_XPv"
      },
      "execution_count": 81,
      "outputs": []
    },
    {
      "cell_type": "code",
      "source": [
        "c = list()"
      ],
      "metadata": {
        "id": "NTHxRmnI_Pqq"
      },
      "execution_count": null,
      "outputs": []
    },
    {
      "cell_type": "code",
      "source": [
        "list(range(10))"
      ],
      "metadata": {
        "colab": {
          "base_uri": "https://localhost:8080/"
        },
        "id": "9Xft9yCu_QjC",
        "outputId": "81cee8f1-198b-4140-8ed0-d84ed14291f0"
      },
      "execution_count": 85,
      "outputs": [
        {
          "output_type": "execute_result",
          "data": {
            "text/plain": [
              "[0, 1, 2, 3, 4, 5, 6, 7, 8, 9]"
            ]
          },
          "metadata": {},
          "execution_count": 85
        }
      ]
    },
    {
      "cell_type": "code",
      "source": [
        "list(range(1, 10))"
      ],
      "metadata": {
        "colab": {
          "base_uri": "https://localhost:8080/"
        },
        "id": "7WohAe6h_vd1",
        "outputId": "59baa862-1c82-43d2-b6b6-4b58cc0b2719"
      },
      "execution_count": 86,
      "outputs": [
        {
          "output_type": "execute_result",
          "data": {
            "text/plain": [
              "[1, 2, 3, 4, 5, 6, 7, 8, 9]"
            ]
          },
          "metadata": {},
          "execution_count": 86
        }
      ]
    },
    {
      "cell_type": "code",
      "source": [
        "list(range(1,20,2))"
      ],
      "metadata": {
        "colab": {
          "base_uri": "https://localhost:8080/"
        },
        "id": "OEDtAw3K_y0J",
        "outputId": "ef1e19fb-635e-472a-8a66-d9325587a3d4"
      },
      "execution_count": 88,
      "outputs": [
        {
          "output_type": "execute_result",
          "data": {
            "text/plain": [
              "[1, 3, 5, 7, 9, 11, 13, 15, 17, 19]"
            ]
          },
          "metadata": {},
          "execution_count": 88
        }
      ]
    },
    {
      "cell_type": "code",
      "source": [
        "for number in range(20):\n",
        "    print(number)"
      ],
      "metadata": {
        "id": "nbPjczOYAUfr"
      },
      "execution_count": null,
      "outputs": []
    },
    {
      "cell_type": "code",
      "source": [
        "k = [1,2, 3]"
      ],
      "metadata": {
        "id": "TZjUIS1nAnGy"
      },
      "execution_count": 90,
      "outputs": []
    },
    {
      "cell_type": "code",
      "source": [
        "num = len(k)\n",
        "num"
      ],
      "metadata": {
        "colab": {
          "base_uri": "https://localhost:8080/"
        },
        "id": "IDu75a7nAr1j",
        "outputId": "74ad8ed2-21bb-4f05-fbdc-fd9c562d1272"
      },
      "execution_count": 94,
      "outputs": [
        {
          "output_type": "execute_result",
          "data": {
            "text/plain": [
              "3"
            ]
          },
          "metadata": {},
          "execution_count": 94
        }
      ]
    },
    {
      "cell_type": "code",
      "source": [
        "list(range(len(k)))"
      ],
      "metadata": {
        "colab": {
          "base_uri": "https://localhost:8080/"
        },
        "id": "AutcSvZlArzR",
        "outputId": "eb8434b2-b785-4312-fa65-7cac394aba84"
      },
      "execution_count": 96,
      "outputs": [
        {
          "output_type": "execute_result",
          "data": {
            "text/plain": [
              "[0, 1, 2]"
            ]
          },
          "metadata": {},
          "execution_count": 96
        }
      ]
    },
    {
      "cell_type": "code",
      "source": [
        "persons = ['Eric',\"Dox\", \"Max\"]"
      ],
      "metadata": {
        "id": "Gg2XDgHQArwv"
      },
      "execution_count": 97,
      "outputs": []
    },
    {
      "cell_type": "code",
      "source": [
        "for person in persons:\n",
        "    print(person)"
      ],
      "metadata": {
        "colab": {
          "base_uri": "https://localhost:8080/"
        },
        "id": "eo7gwMgdAruO",
        "outputId": "c8e4f4be-f72e-4d83-fcdd-e9bef1a19c67"
      },
      "execution_count": 98,
      "outputs": [
        {
          "output_type": "stream",
          "name": "stdout",
          "text": [
            "Eric\n",
            "Dox\n",
            "Max\n"
          ]
        }
      ]
    },
    {
      "cell_type": "code",
      "source": [
        "for num in range(3):\n",
        "    print(persons[num])"
      ],
      "metadata": {
        "colab": {
          "base_uri": "https://localhost:8080/"
        },
        "id": "QXYOOkSMArrr",
        "outputId": "50230646-b100-4833-93e5-0278cde60b7e"
      },
      "execution_count": 102,
      "outputs": [
        {
          "output_type": "stream",
          "name": "stdout",
          "text": [
            "Eric\n",
            "Dox\n",
            "Max\n"
          ]
        }
      ]
    },
    {
      "cell_type": "code",
      "source": [
        "for num in range(len(persons)):\n",
        "    print(persons[num])"
      ],
      "metadata": {
        "colab": {
          "base_uri": "https://localhost:8080/"
        },
        "id": "wLggFHTlArnx",
        "outputId": "d6942a1a-4bf6-41bf-ecbb-e42837e521b5"
      },
      "execution_count": 103,
      "outputs": [
        {
          "output_type": "stream",
          "name": "stdout",
          "text": [
            "Eric\n",
            "Dox\n",
            "Max\n"
          ]
        }
      ]
    },
    {
      "cell_type": "code",
      "source": [
        "for person in persons:\n",
        "    print(person)"
      ],
      "metadata": {
        "colab": {
          "base_uri": "https://localhost:8080/"
        },
        "id": "7N5M0xiaB9LK",
        "outputId": "4006df28-4601-4dfa-dc73-2f306fcbdb2b"
      },
      "execution_count": 104,
      "outputs": [
        {
          "output_type": "stream",
          "name": "stdout",
          "text": [
            "Eric\n",
            "Dox\n",
            "Max\n"
          ]
        }
      ]
    },
    {
      "cell_type": "code",
      "source": [],
      "metadata": {
        "id": "qmVBXEzJBlIL"
      },
      "execution_count": null,
      "outputs": []
    },
    {
      "cell_type": "code",
      "source": [
        "l = [1,2, 3]"
      ],
      "metadata": {
        "id": "aaf_3BOK7CCN"
      },
      "execution_count": 68,
      "outputs": []
    },
    {
      "cell_type": "code",
      "source": [
        "l[0]"
      ],
      "metadata": {
        "colab": {
          "base_uri": "https://localhost:8080/"
        },
        "id": "JfLF6kWR-bgl",
        "outputId": "958ec385-7ec2-4d29-dd35-d999e8b1dec4"
      },
      "execution_count": 69,
      "outputs": [
        {
          "output_type": "execute_result",
          "data": {
            "text/plain": [
              "1"
            ]
          },
          "metadata": {},
          "execution_count": 69
        }
      ]
    },
    {
      "cell_type": "code",
      "source": [
        "l[1]"
      ],
      "metadata": {
        "colab": {
          "base_uri": "https://localhost:8080/"
        },
        "id": "CY9gH1Gf-dUK",
        "outputId": "c061afdc-6fc8-4076-eae5-bf63a4fb3ea2"
      },
      "execution_count": 70,
      "outputs": [
        {
          "output_type": "execute_result",
          "data": {
            "text/plain": [
              "2"
            ]
          },
          "metadata": {},
          "execution_count": 70
        }
      ]
    },
    {
      "cell_type": "code",
      "source": [
        "what_i_poped = l.pop(1)"
      ],
      "metadata": {
        "id": "zWbVDiZ17B_M"
      },
      "execution_count": 71,
      "outputs": []
    },
    {
      "cell_type": "code",
      "source": [
        "what_i_poped"
      ],
      "metadata": {
        "colab": {
          "base_uri": "https://localhost:8080/"
        },
        "id": "c6RYywck9tg3",
        "outputId": "d9522716-79ca-4701-f424-7614e6ad4f16"
      },
      "execution_count": 72,
      "outputs": [
        {
          "output_type": "execute_result",
          "data": {
            "text/plain": [
              "2"
            ]
          },
          "metadata": {},
          "execution_count": 72
        }
      ]
    },
    {
      "cell_type": "code",
      "source": [
        "l"
      ],
      "metadata": {
        "colab": {
          "base_uri": "https://localhost:8080/"
        },
        "id": "QAXE7R_v9m4r",
        "outputId": "8bcd628a-2dc7-44b3-874a-9772b8e7cf32"
      },
      "execution_count": 73,
      "outputs": [
        {
          "output_type": "execute_result",
          "data": {
            "text/plain": [
              "[1, 3]"
            ]
          },
          "metadata": {},
          "execution_count": 73
        }
      ]
    },
    {
      "cell_type": "code",
      "source": [
        "what_i_poped in l"
      ],
      "metadata": {
        "colab": {
          "base_uri": "https://localhost:8080/"
        },
        "id": "5UZ8CcRr7B75",
        "outputId": "47b6b8d4-5cf0-457a-d75d-94d490d9eab4"
      },
      "execution_count": 58,
      "outputs": [
        {
          "output_type": "execute_result",
          "data": {
            "text/plain": [
              "False"
            ]
          },
          "metadata": {},
          "execution_count": 58
        }
      ]
    },
    {
      "cell_type": "code",
      "source": [
        "what_i_poped"
      ],
      "metadata": {
        "colab": {
          "base_uri": "https://localhost:8080/"
        },
        "id": "osfNn95f7B4q",
        "outputId": "22d272c5-e9dd-4299-86b0-6de4c20e2dd0"
      },
      "execution_count": 41,
      "outputs": [
        {
          "output_type": "execute_result",
          "data": {
            "text/plain": [
              "2"
            ]
          },
          "metadata": {},
          "execution_count": 41
        }
      ]
    },
    {
      "cell_type": "code",
      "source": [],
      "metadata": {
        "id": "eK8g53Mh7B0f"
      },
      "execution_count": null,
      "outputs": []
    },
    {
      "cell_type": "code",
      "source": [],
      "metadata": {
        "id": "134h8zOq7Bwf"
      },
      "execution_count": null,
      "outputs": []
    },
    {
      "cell_type": "code",
      "source": [
        "lido_shop = bill_items"
      ],
      "metadata": {
        "id": "Ci08LVEa2guO"
      },
      "execution_count": 23,
      "outputs": []
    },
    {
      "cell_type": "code",
      "source": [
        "bag = []\n",
        "for item in lido_shop:\n",
        "    bag.append(item[2])"
      ],
      "metadata": {
        "id": "eXw_vw0Y2C03"
      },
      "execution_count": 24,
      "outputs": []
    },
    {
      "cell_type": "code",
      "source": [
        "maxv = max(bag)\n",
        "minv = min(bag)\n",
        "print(maxv, minv)"
      ],
      "metadata": {
        "colab": {
          "base_uri": "https://localhost:8080/"
        },
        "id": "DHXQkg0F3-Hk",
        "outputId": "aa028cec-5c7c-496f-d2fe-6288eac76fa3"
      },
      "execution_count": 31,
      "outputs": [
        {
          "output_type": "stream",
          "name": "stdout",
          "text": [
            "11.5 4.35\n"
          ]
        }
      ]
    },
    {
      "cell_type": "code",
      "source": [
        "for item in lido_shop:\n",
        "    if item[2] == maxv:\n",
        "        print(item[1])"
      ],
      "metadata": {
        "colab": {
          "base_uri": "https://localhost:8080/"
        },
        "id": "7Cdg89YW3fEm",
        "outputId": "9daeb608-8f44-4389-92f6-cc686f915e69"
      },
      "execution_count": 30,
      "outputs": [
        {
          "output_type": "stream",
          "name": "stdout",
          "text": [
            "American Hot\n"
          ]
        }
      ]
    },
    {
      "cell_type": "code",
      "source": [
        "print(bag)"
      ],
      "metadata": {
        "colab": {
          "base_uri": "https://localhost:8080/"
        },
        "id": "Y80OO9N23FwE",
        "outputId": "3fe39286-393a-4e14-afdf-6e883131c095"
      },
      "execution_count": 26,
      "outputs": [
        {
          "output_type": "stream",
          "name": "stdout",
          "text": [
            "[6.0, 11.5, 4.45, 5.35, 10.65, 4.9, 5.35, 10.65, 4.9, 4.35, 9.4, 4.9]\n"
          ]
        }
      ]
    },
    {
      "cell_type": "code",
      "source": [],
      "metadata": {
        "id": "FbUWfOb-2Cxi"
      },
      "execution_count": null,
      "outputs": []
    },
    {
      "cell_type": "code",
      "source": [],
      "metadata": {
        "id": "lDFR1ij_2Cur"
      },
      "execution_count": null,
      "outputs": []
    },
    {
      "cell_type": "code",
      "source": [],
      "metadata": {
        "id": "8_AXw2252Crd"
      },
      "execution_count": null,
      "outputs": []
    },
    {
      "cell_type": "code",
      "source": [],
      "metadata": {
        "id": "69Mk7IXJ2Cgy"
      },
      "execution_count": null,
      "outputs": []
    },
    {
      "cell_type": "code",
      "source": [],
      "metadata": {
        "id": "oVM4GCtv2CdG"
      },
      "execution_count": null,
      "outputs": []
    },
    {
      "cell_type": "code",
      "source": [
        "bill_items[1]"
      ],
      "metadata": {
        "colab": {
          "base_uri": "https://localhost:8080/"
        },
        "id": "yMjkZvAx14fc",
        "outputId": "941d3241-b85e-46b3-a186-78ca6e90fd4a"
      },
      "execution_count": 17,
      "outputs": [
        {
          "output_type": "execute_result",
          "data": {
            "text/plain": [
              "['Tom', 'American Hot', 11.5]"
            ]
          },
          "metadata": {},
          "execution_count": 17
        }
      ]
    },
    {
      "cell_type": "code",
      "source": [
        "box0 = bill_items[0]\n",
        "box0"
      ],
      "metadata": {
        "colab": {
          "base_uri": "https://localhost:8080/"
        },
        "id": "NbSCaax41DlC",
        "outputId": "f31438ba-12c2-41f2-d2dc-4df199d54a7e"
      },
      "execution_count": 12,
      "outputs": [
        {
          "output_type": "execute_result",
          "data": {
            "text/plain": [
              "['Tom', 'Calamari', 6.0]"
            ]
          },
          "metadata": {},
          "execution_count": 12
        }
      ]
    },
    {
      "cell_type": "code",
      "source": [
        "name = box0[0]\n",
        "what_was_eaten = box0[1]\n",
        "price = box0[2]"
      ],
      "metadata": {
        "id": "1WdWE2DQ1dql"
      },
      "execution_count": 15,
      "outputs": []
    },
    {
      "cell_type": "code",
      "source": [
        "name, price"
      ],
      "metadata": {
        "colab": {
          "base_uri": "https://localhost:8080/"
        },
        "id": "XgXIU9fy1jyc",
        "outputId": "a56a2dfe-56e8-4faf-97c8-7ccbc4dbb72d"
      },
      "execution_count": 16,
      "outputs": [
        {
          "output_type": "execute_result",
          "data": {
            "text/plain": [
              "('Tom', 6.0)"
            ]
          },
          "metadata": {},
          "execution_count": 16
        }
      ]
    },
    {
      "cell_type": "code",
      "source": [
        "bill_items[0][0]"
      ],
      "metadata": {
        "colab": {
          "base_uri": "https://localhost:8080/",
          "height": 36
        },
        "id": "nlugWHMPzrfk",
        "outputId": "350de809-7fb6-448d-b85a-8f5429c1fe6f"
      },
      "execution_count": 7,
      "outputs": [
        {
          "output_type": "execute_result",
          "data": {
            "text/plain": [
              "'Tom'"
            ],
            "application/vnd.google.colaboratory.intrinsic+json": {
              "type": "string"
            }
          },
          "metadata": {},
          "execution_count": 7
        }
      ]
    },
    {
      "cell_type": "code",
      "source": [
        "s = 0\n",
        "for bill in bill_items:\n",
        "    if bill[0] == 'Tom':\n",
        "        s = s + bill[2]\n",
        "print(s)"
      ],
      "metadata": {
        "colab": {
          "base_uri": "https://localhost:8080/"
        },
        "id": "xstxnAlnzGgJ",
        "outputId": "02c5a4e6-30e2-45eb-ebc0-ee32af35b777"
      },
      "execution_count": 10,
      "outputs": [
        {
          "output_type": "stream",
          "name": "stdout",
          "text": [
            "21.95\n"
          ]
        }
      ]
    },
    {
      "cell_type": "code",
      "source": [
        "paid_by_tom == s"
      ],
      "metadata": {
        "colab": {
          "base_uri": "https://localhost:8080/"
        },
        "id": "kPtpowdd0vyI",
        "outputId": "7dea1f83-4275-4967-e4b6-434be0d2b4e4"
      },
      "execution_count": 11,
      "outputs": [
        {
          "output_type": "execute_result",
          "data": {
            "text/plain": [
              "False"
            ]
          },
          "metadata": {},
          "execution_count": 11
        }
      ]
    }
  ]
}