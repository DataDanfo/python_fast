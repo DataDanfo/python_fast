{
 "cells": [
  {
   "cell_type": "code",
   "execution_count": 1,
   "metadata": {},
   "outputs": [],
   "source": [
    "fm_frequencies = {\n",
    "    '89.1 MHz': 'BBC Radio 2',\n",
    "    '91.3 MHz': 'BBC Radio 3',\n",
    "    '93.5 MHz': 'BBC Radio 4',\n",
    "    '94.9 MHz': 'BBC London',\n",
    "    '95.8 MHz': 'Capital FM',\n",
    "    '97.3 MHz': 'LBC',\n",
    "    '98.8 MHz': 'BBC Radio 1',\n",
    "    '100.0 MHz': 'Kiss FM',\n",
    "    '100.9 MHz': 'Classic FM',\n",
    "    '105.4 MHz': 'Magic',\n",
    "    '105.8 MHz': 'Virgin',\n",
    "    '106.2 MHz': 'Heart 106.2',\n",
    "}\n"
   ]
  },
  {
   "cell_type": "code",
   "execution_count": 2,
   "metadata": {},
   "outputs": [
    {
     "data": {
      "text/plain": [
       "dict_keys(['89.1 MHz', '91.3 MHz', '93.5 MHz', '94.9 MHz', '95.8 MHz', '97.3 MHz', '98.8 MHz', '100.0 MHz', '100.9 MHz', '105.4 MHz', '105.8 MHz', '106.2 MHz'])"
      ]
     },
     "execution_count": 2,
     "metadata": {},
     "output_type": "execute_result"
    }
   ],
   "source": [
    "fm_frequencies.keys()"
   ]
  },
  {
   "cell_type": "code",
   "execution_count": 3,
   "metadata": {},
   "outputs": [
    {
     "data": {
      "text/plain": [
       "dict_values(['BBC Radio 2', 'BBC Radio 3', 'BBC Radio 4', 'BBC London', 'Capital FM', 'LBC', 'BBC Radio 1', 'Kiss FM', 'Classic FM', 'Magic', 'Virgin', 'Heart 106.2'])"
      ]
     },
     "execution_count": 3,
     "metadata": {},
     "output_type": "execute_result"
    }
   ],
   "source": [
    "fm_frequencies.values()"
   ]
  },
  {
   "cell_type": "code",
   "execution_count": 4,
   "metadata": {},
   "outputs": [
    {
     "data": {
      "text/plain": [
       "dict_items([('89.1 MHz', 'BBC Radio 2'), ('91.3 MHz', 'BBC Radio 3'), ('93.5 MHz', 'BBC Radio 4'), ('94.9 MHz', 'BBC London'), ('95.8 MHz', 'Capital FM'), ('97.3 MHz', 'LBC'), ('98.8 MHz', 'BBC Radio 1'), ('100.0 MHz', 'Kiss FM'), ('100.9 MHz', 'Classic FM'), ('105.4 MHz', 'Magic'), ('105.8 MHz', 'Virgin'), ('106.2 MHz', 'Heart 106.2')])"
      ]
     },
     "execution_count": 4,
     "metadata": {},
     "output_type": "execute_result"
    }
   ],
   "source": [
    "fm_frequencies.items()"
   ]
  },
  {
   "cell_type": "code",
   "execution_count": 5,
   "metadata": {},
   "outputs": [
    {
     "name": "stdout",
     "output_type": "stream",
     "text": [
      "1\n",
      "2\n",
      "3\n"
     ]
    }
   ],
   "source": [
    "for x in [1,2,3]:\n",
    "    print(x)"
   ]
  },
  {
   "cell_type": "code",
   "execution_count": 34,
   "metadata": {},
   "outputs": [
    {
     "name": "stdout",
     "output_type": "stream",
     "text": [
      "I don't know the frequency \n"
     ]
    }
   ],
   "source": [
    "value =  'Kiss FMa'\n",
    "sent = None\n",
    "for item in fm_frequencies.items():\n",
    "    if(item[1]==value):\n",
    "     sent = \"You can listen to {0}  on {1}\".format(item[1],item[0])\n",
    "  \n",
    "     \n",
    "if(sent==None):\n",
    "    print('I don\\'t know the frequency ')\n",
    "else:\n",
    "    print(sent)"
   ]
  },
  {
   "cell_type": "code",
   "execution_count": 14,
   "metadata": {},
   "outputs": [
    {
     "data": {
      "text/plain": [
       "'You can listen to Radio 4  on 92.5 FM'"
      ]
     },
     "execution_count": 14,
     "metadata": {},
     "output_type": "execute_result"
    }
   ],
   "source": [
    "a= 'Radio 4'\n",
    "b='92.5 FM'\n",
    "sen = f\"You can listen to {a}  on {b}\"\n",
    "sen"
   ]
  },
  {
   "cell_type": "code",
   "execution_count": 15,
   "metadata": {},
   "outputs": [
    {
     "data": {
      "text/plain": [
       "'You can listen to Radio 4  on 92.5 FM'"
      ]
     },
     "execution_count": 15,
     "metadata": {},
     "output_type": "execute_result"
    }
   ],
   "source": [
    "sen = \"You can listen to {0}  on {1}\".format(a,b)\n",
    "sen"
   ]
  },
  {
   "cell_type": "code",
   "execution_count": 12,
   "metadata": {},
   "outputs": [
    {
     "data": {
      "text/plain": [
       "'You can listen to Radio 4  on 92.5 FM'"
      ]
     },
     "execution_count": 12,
     "metadata": {},
     "output_type": "execute_result"
    }
   ],
   "source": []
  },
  {
   "cell_type": "code",
   "execution_count": 42,
   "metadata": {},
   "outputs": [
    {
     "name": "stdout",
     "output_type": "stream",
     "text": [
      "kjjj\n"
     ]
    }
   ],
   "source": [
    "age = 1220\n",
    "if (age<18):\n",
    "    print('boy')\n",
    "elif(age==18):\n",
    "    print(\"special\")\n",
    "else:\n",
    "    print('kjjj')\n",
    "    "
   ]
  },
  {
   "cell_type": "code",
   "execution_count": 2,
   "metadata": {},
   "outputs": [],
   "source": [
    "subjects = ['Maths', 'Philosophy', 'Geography', 'Music']\n",
    "\n",
    "grade_boundaries = {\n",
    "    'A': [70, 100],\n",
    "    'B': [60, 69],\n",
    "    'C': [50, 59],\n",
    "    'D': [40, 49],\n",
    "    'E': [30, 39],\n",
    "    'F': [0, 29],\n",
    "}"
   ]
  },
  {
   "cell_type": "code",
   "execution_count": 3,
   "metadata": {},
   "outputs": [
    {
     "name": "stdout",
     "output_type": "stream",
     "text": [
      " What marks did you get in Maths?\n",
      " What marks did you get in Philosophy?\n",
      " What marks did you get in Geography?\n",
      " What marks did you get in Music?\n"
     ]
    }
   ],
   "source": [
    "for subject in subjects:\n",
    "    print(f\" What marks did you get in {subject}?\")"
   ]
  },
  {
   "cell_type": "code",
   "execution_count": 4,
   "metadata": {},
   "outputs": [
    {
     "name": "stdout",
     "output_type": "stream",
     "text": [
      " What marks did you get in Maths?\n",
      " What marks did you get in Philosophy?\n",
      " What marks did you get in Geography?\n",
      " What marks did you get in Music?\n",
      "{'Maths': 50, 'Philosophy': 50, 'Geography': 50, 'Music': 50}\n"
     ]
    }
   ],
   "source": [
    "store = dict()\n",
    "for subject in subjects:\n",
    "    print(f\" What marks did you get in {subject}?\")\n",
    "    store[subject] = 50\n",
    "    \n",
    "    \n",
    "print(store)\n",
    "    "
   ]
  },
  {
   "cell_type": "code",
   "execution_count": 14,
   "metadata": {},
   "outputs": [
    {
     "data": {
      "text/plain": [
       "{'Maths': 45}"
      ]
     },
     "execution_count": 14,
     "metadata": {},
     "output_type": "execute_result"
    }
   ],
   "source": [
    "storek = {}\n",
    "storek['Maths'] = 45\n",
    "storek"
   ]
  },
  {
   "cell_type": "code",
   "execution_count": 12,
   "metadata": {},
   "outputs": [
    {
     "name": "stdout",
     "output_type": "stream",
     "text": [
      "{'Maths': '45', 'Philosophy': '57', 'Geography': '78', 'Music': '97'}\n"
     ]
    }
   ],
   "source": [
    "store = {}\n",
    "for subject in subjects:\n",
    "    store[subject] = input(f\" What marks did you get in {subject}?\")\n",
    "    \n",
    "print(store)"
   ]
  },
  {
   "cell_type": "code",
   "execution_count": 15,
   "metadata": {},
   "outputs": [
    {
     "name": "stdout",
     "output_type": "stream",
     "text": [
      "{'Maths': 'D', 'Philosophy': 'B', 'Geography': 'A', 'Music': 'A'}\n"
     ]
    }
   ],
   "source": [
    "\n",
    "grade_boundaries = {\n",
    "    'A': [70, 100],\n",
    "    'B': [60, 69],\n",
    "    'C': [50, 59],\n",
    "    'D': [40, 49],\n",
    "    'E': [30, 39],\n",
    "    'F': [0, 29],\n",
    "}\n",
    "\n",
    "store = dict()\n",
    "for subject in subjects:\n",
    "    ivalue = input(f\" What marks did you get in {subject}?\")\n",
    "    ivalue = int(ivalue)\n",
    "    for key, value in grade_boundaries.items():\n",
    "        if ivalue in range(value[0], value[1] + 1):\n",
    "            store[subject] = key\n",
    "            continue\n",
    "    \n",
    "print(store)"
   ]
  },
  {
   "cell_type": "code",
   "execution_count": null,
   "metadata": {},
   "outputs": [],
   "source": [
    "store = dict()\n",
    "for subject in subjects:\n",
    "    ivalue = input(f\" What marks did you get in {subject}?\")\n",
    "    ivalue = int(ivalue)\n",
    "    for key, value in grade_boundaries.items():\n",
    "        if ivalue in range(value[0], value[1] + 1):\n",
    "            store[subject] = key\n",
    "            continue\n",
    "    \n",
    "print(store)"
   ]
  },
  {
   "cell_type": "code",
   "execution_count": 29,
   "metadata": {},
   "outputs": [
    {
     "name": "stdout",
     "output_type": "stream",
     "text": [
      "4\n",
      "5\n"
     ]
    }
   ],
   "source": [
    "for i in [3,4,5]:\n",
    "    \n",
    "    if(i == 3):\n",
    "        continue\n",
    "    print(i)"
   ]
  },
  {
   "cell_type": "code",
   "execution_count": null,
   "metadata": {},
   "outputs": [],
   "source": [
    "for i in [3,4,5]:\n",
    "    \n",
    "    if(i == 3):\n",
    "        break\n",
    "    print(i)"
   ]
  },
  {
   "cell_type": "code",
   "execution_count": null,
   "metadata": {},
   "outputs": [],
   "source": [
    "# Your grades:\n",
    "#\n",
    "# Maths: B\n",
    "# Philosophy: C\n",
    "# Geography: A\n",
    "# Music: B"
   ]
  },
  {
   "cell_type": "code",
   "execution_count": 10,
   "metadata": {},
   "outputs": [],
   "source": [
    "madict = {'a':1}\n",
    "madict2 = dict()\n",
    "madict2['a'] = 1\n"
   ]
  },
  {
   "cell_type": "code",
   "execution_count": 11,
   "metadata": {},
   "outputs": [
    {
     "name": "stdout",
     "output_type": "stream",
     "text": [
      "{'a': 1}\n",
      "{'a': 1}\n"
     ]
    }
   ],
   "source": [
    "print(madict)\n",
    "print(madict2)"
   ]
  },
  {
   "cell_type": "code",
   "execution_count": 8,
   "metadata": {},
   "outputs": [],
   "source": [
    "madict['b'] = 2"
   ]
  },
  {
   "cell_type": "code",
   "execution_count": 9,
   "metadata": {},
   "outputs": [
    {
     "data": {
      "text/plain": [
       "{'a': 1, 'b': 2}"
      ]
     },
     "execution_count": 9,
     "metadata": {},
     "output_type": "execute_result"
    }
   ],
   "source": [
    "madict"
   ]
  },
  {
   "cell_type": "code",
   "execution_count": 16,
   "metadata": {},
   "outputs": [],
   "source": [
    "\n",
    "grade_boundaries = {\n",
    "    'A': [70, 100],\n",
    "    'B': [60, 69],\n",
    "    'C': [50, 59],\n",
    "    'D': [40, 49],\n",
    "    'E': [30, 39],\n",
    "    'F': [0, 29],\n",
    "}"
   ]
  },
  {
   "cell_type": "code",
   "execution_count": 17,
   "metadata": {},
   "outputs": [],
   "source": [
    "\n",
    "v = [0, 29]"
   ]
  },
  {
   "cell_type": "code",
   "execution_count": 23,
   "metadata": {},
   "outputs": [
    {
     "name": "stdout",
     "output_type": "stream",
     "text": [
      "0\n",
      "1\n",
      "2\n",
      "3\n",
      "4\n",
      "5\n",
      "6\n",
      "7\n",
      "8\n",
      "9\n",
      "10\n",
      "11\n",
      "12\n",
      "13\n",
      "14\n",
      "15\n",
      "16\n",
      "17\n",
      "18\n",
      "19\n",
      "20\n",
      "21\n",
      "22\n",
      "23\n",
      "24\n",
      "25\n",
      "26\n",
      "27\n",
      "28\n",
      "29\n"
     ]
    }
   ],
   "source": [
    "for i in range(v[0], v[1] + 1): print(i)"
   ]
  },
  {
   "cell_type": "code",
   "execution_count": 20,
   "metadata": {},
   "outputs": [
    {
     "data": {
      "text/plain": [
       "[0,\n",
       " 1,\n",
       " 2,\n",
       " 3,\n",
       " 4,\n",
       " 5,\n",
       " 6,\n",
       " 7,\n",
       " 8,\n",
       " 9,\n",
       " 10,\n",
       " 11,\n",
       " 12,\n",
       " 13,\n",
       " 14,\n",
       " 15,\n",
       " 16,\n",
       " 17,\n",
       " 18,\n",
       " 19,\n",
       " 20,\n",
       " 21,\n",
       " 22,\n",
       " 23,\n",
       " 24,\n",
       " 25,\n",
       " 26,\n",
       " 27,\n",
       " 28,\n",
       " 29]"
      ]
     },
     "execution_count": 20,
     "metadata": {},
     "output_type": "execute_result"
    }
   ],
   "source": [
    "list (range(0, 29 + 1))"
   ]
  }
 ],
 "metadata": {
  "kernelspec": {
   "display_name": "Python 3",
   "language": "python",
   "name": "python3"
  },
  "language_info": {
   "codemirror_mode": {
    "name": "ipython",
    "version": 3
   },
   "file_extension": ".py",
   "mimetype": "text/x-python",
   "name": "python",
   "nbconvert_exporter": "python",
   "pygments_lexer": "ipython3",
   "version": "3.10.5"
  },
  "orig_nbformat": 4
 },
 "nbformat": 4,
 "nbformat_minor": 2
}
