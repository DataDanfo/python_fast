{
  "nbformat": 4,
  "nbformat_minor": 0,
  "metadata": {
    "colab": {
      "provenance": []
    },
    "kernelspec": {
      "name": "python3",
      "display_name": "Python 3"
    },
    "language_info": {
      "name": "python"
    }
  },
  "cells": [
    {
      "cell_type": "markdown",
      "source": [
        "# FOR\n",
        "\n",
        "1. a = \"Apple\"\n",
        "2. a = \"Mango\"\n",
        "3. a =  \"Guava\""
      ],
      "metadata": {
        "id": "HjWrsaMJ-wqm"
      }
    },
    {
      "cell_type": "code",
      "source": [
        "peoples = [\"Eric\", \"Bose\", \"Holand\"]"
      ],
      "metadata": {
        "id": "DKr2nJsTve1f"
      },
      "execution_count": 1,
      "outputs": []
    },
    {
      "cell_type": "code",
      "source": [],
      "metadata": {
        "id": "Q5hcDD1fwJBa"
      },
      "execution_count": null,
      "outputs": []
    },
    {
      "cell_type": "code",
      "source": [
        "for op in peoples:\n",
        "    print(op)"
      ],
      "metadata": {
        "colab": {
          "base_uri": "https://localhost:8080/"
        },
        "id": "mVE0HgZhvmhB",
        "outputId": "e1bea07b-b42b-4c71-8629-685bf1f0fd34"
      },
      "execution_count": 3,
      "outputs": [
        {
          "output_type": "stream",
          "name": "stdout",
          "text": [
            "Eric\n",
            "Bose\n",
            "Holand\n"
          ]
        }
      ]
    },
    {
      "cell_type": "code",
      "source": [
        "fruits = [\"Apple\",\"Mango\", \"Guava\"]"
      ],
      "metadata": {
        "id": "pip0GeLJ-zdX"
      },
      "execution_count": null,
      "outputs": []
    },
    {
      "cell_type": "code",
      "source": [
        "for k in fruits:\n",
        "  print(k)"
      ],
      "metadata": {
        "colab": {
          "base_uri": "https://localhost:8080/"
        },
        "id": "aZKbBzqf_OJn",
        "outputId": "6d8d9191-8f56-4ec5-92a5-5a95818938ff"
      },
      "execution_count": null,
      "outputs": [
        {
          "output_type": "stream",
          "name": "stdout",
          "text": [
            "Apple\n",
            "Mango\n",
            "Guava\n"
          ]
        }
      ]
    },
    {
      "cell_type": "code",
      "source": [
        "numx = [1,2,3]"
      ],
      "metadata": {
        "id": "DqE9FsuEA1-t"
      },
      "execution_count": 4,
      "outputs": []
    },
    {
      "cell_type": "code",
      "source": [],
      "metadata": {
        "id": "7DjGV9cWwbUm"
      },
      "execution_count": null,
      "outputs": []
    },
    {
      "cell_type": "code",
      "source": [
        "s = 0\n",
        "for num in numx:\n",
        "    s = s + num\n",
        "\n",
        "print(s)"
      ],
      "metadata": {
        "colab": {
          "base_uri": "https://localhost:8080/"
        },
        "id": "So4r456gAwtS",
        "outputId": "a06c49f2-de5f-4cb8-cad9-15122de08f37"
      },
      "execution_count": null,
      "outputs": [
        {
          "output_type": "stream",
          "name": "stdout",
          "text": [
            "6\n"
          ]
        }
      ]
    },
    {
      "cell_type": "code",
      "source": [
        "numbers = [1,2,3,4,5,6,7,8,9,10]"
      ],
      "metadata": {
        "id": "wedoTjtawctS"
      },
      "execution_count": 6,
      "outputs": []
    },
    {
      "cell_type": "code",
      "source": [
        "s = 0\n",
        "for number in numbers:\n",
        "    s = s + number\n",
        "\n",
        "print(s)"
      ],
      "metadata": {
        "colab": {
          "base_uri": "https://localhost:8080/"
        },
        "id": "FOdPLzoUwpPc",
        "outputId": "2ed66ead-cdda-44d9-c9f9-7e6d6b23a92c"
      },
      "execution_count": 8,
      "outputs": [
        {
          "output_type": "stream",
          "name": "stdout",
          "text": [
            "55\n"
          ]
        }
      ]
    },
    {
      "cell_type": "code",
      "source": [
        "    s = 0 +  1\n",
        "    s = 1  + 2\n",
        "    s = 3  + 3\n",
        "    s = 6"
      ],
      "metadata": {
        "id": "1d80aHRnDO8P"
      },
      "execution_count": null,
      "outputs": []
    },
    {
      "cell_type": "code",
      "source": [
        "# This program reports how much individuals should pay for their order at\n",
        "# dinner.\n",
        "#\n",
        "# Usage:\n",
        "#\n",
        "# $ python bill_splitting.py [name]\n",
        "#\n",
        "# For instance:\n",
        "#\n",
        "# $ python bill_splitting.py Tom\n",
        "# Tom should pay 38.55\n",
        "#\n",
        "# or:\n",
        "#\n",
        "# $ python bill_splitting.py Tim\n",
        "# Tim did not have dinner\n",
        "\n",
        "\n",
        "\n",
        "print('There are {} items on the bill'.format(len(bill_items)))\n",
        "\n",
        "\n",
        "# TODO:\n",
        "# * Implement the program as described in the comments at the top of the file.\n",
        "\n",
        "# TODO (extra):\n",
        "# * Change the program so that it additionally reports a breakdown of what each\n",
        "#   person had to eat.\n",
        "# * Change the program so that if it is called without arguments, a table of\n",
        "#   how much everybody should pay is displayed"
      ],
      "metadata": {
        "id": "Dv7KNcG-EH_M"
      },
      "execution_count": null,
      "outputs": []
    },
    {
      "cell_type": "code",
      "source": [
        "bill_items = [\n",
        "    ['Tom', 'Calamari', 6.00],\n",
        "    ['Tom', 'American Hot', 11.50],\n",
        "    ['Tom', 'Chocolate Fudge Cake', 4.45],\n",
        "    ['Clare', 'Bruschetta Originale', 5.35],\n",
        "    ['Clare', 'Fiorentina', 10.65],\n",
        "    ['Clare', 'Tiramasu', 4.90],\n",
        "    ['Rich', 'Bruschetta Originale', 5.35],\n",
        "    ['Rich', 'La Reine', 10.65],\n",
        "    ['Rich', 'Honeycomb Cream Slice', 4.90],\n",
        "    ['Rosie', 'Garlic Bread', 4.35],\n",
        "    ['Rosie', 'Veneziana', 9.40],\n",
        "    ['Rosie', 'Tiramasu', 4.90],\n",
        "]"
      ],
      "metadata": {
        "id": "acyyQqEFEK6S"
      },
      "execution_count": null,
      "outputs": []
    },
    {
      "cell_type": "code",
      "source": [
        "x = [1,45,66,12]"
      ],
      "metadata": {
        "id": "Vgodzt7GIfFL"
      },
      "execution_count": null,
      "outputs": []
    },
    {
      "cell_type": "code",
      "source": [
        "# +\n",
        "# -\n",
        "# /\n",
        "# >\n",
        "# <\n",
        "# =\n",
        "# ==\n"
      ],
      "metadata": {
        "id": "SR1D2EhBJjrQ"
      },
      "execution_count": null,
      "outputs": []
    },
    {
      "cell_type": "code",
      "source": [
        "maxv = -1\n",
        "for h in x:\n",
        "    if h > maxv:\n",
        "        maxv = h\n",
        "print(maxv)"
      ],
      "metadata": {
        "colab": {
          "base_uri": "https://localhost:8080/"
        },
        "id": "nJ7brYmtI3PL",
        "outputId": "d68fd2b5-1334-4783-cca3-12a266e41e19"
      },
      "execution_count": null,
      "outputs": [
        {
          "output_type": "stream",
          "name": "stdout",
          "text": [
            "66\n"
          ]
        }
      ]
    },
    {
      "cell_type": "code",
      "source": [
        "x = 55\n",
        "if x == 5:\n",
        "    print(\"yes\")\n",
        "else:\n",
        "    print(\"No\")"
      ],
      "metadata": {
        "colab": {
          "base_uri": "https://localhost:8080/"
        },
        "id": "ui8unmq-F3ay",
        "outputId": "82d87965-c47e-4818-cddb-26d69ce3487f"
      },
      "execution_count": null,
      "outputs": [
        {
          "output_type": "stream",
          "name": "stdout",
          "text": [
            "No\n"
          ]
        }
      ]
    },
    {
      "cell_type": "code",
      "source": [
        "s = 0\n",
        "for t in bill_items:\n",
        "    if t[0]==\"Tom\":\n",
        "        s = s + t[2]\n",
        "\n"
      ],
      "metadata": {
        "id": "xZqe6cI7FJXR"
      },
      "execution_count": null,
      "outputs": []
    },
    {
      "cell_type": "code",
      "source": [
        "t = ['Tom', 'Calamari', 6.00]\n",
        "t=  ['Tom', 'American Hot', 11.50]\n",
        "t =   ['Tom', 'Chocolate Fudge Cake', 4.45]\n",
        "\n",
        "s1[2]+ s2[2]+s3[2]"
      ],
      "metadata": {
        "colab": {
          "base_uri": "https://localhost:8080/"
        },
        "id": "_TDG4awCG4B0",
        "outputId": "1dfb1c92-6dc2-4622-98c5-b6b2118f2e4b"
      },
      "execution_count": null,
      "outputs": [
        {
          "output_type": "execute_result",
          "data": {
            "text/plain": [
              "21.95"
            ]
          },
          "metadata": {},
          "execution_count": 41
        }
      ]
    },
    {
      "cell_type": "code",
      "source": [],
      "metadata": {
        "id": "et7PAGxcFJUt"
      },
      "execution_count": null,
      "outputs": []
    },
    {
      "cell_type": "code",
      "source": [],
      "metadata": {
        "id": "D7CUkgARFJSS"
      },
      "execution_count": null,
      "outputs": []
    },
    {
      "cell_type": "code",
      "source": [],
      "metadata": {
        "id": "Ikx-eL_rFJQU"
      },
      "execution_count": null,
      "outputs": []
    },
    {
      "cell_type": "code",
      "source": [],
      "metadata": {
        "id": "Tk8HCgMFFJOH"
      },
      "execution_count": null,
      "outputs": []
    },
    {
      "cell_type": "code",
      "source": [],
      "metadata": {
        "id": "ULsOZGR8FJL6"
      },
      "execution_count": null,
      "outputs": []
    },
    {
      "cell_type": "code",
      "source": [],
      "metadata": {
        "id": "NrBfKaeYFJJU"
      },
      "execution_count": null,
      "outputs": []
    },
    {
      "cell_type": "markdown",
      "source": [],
      "metadata": {
        "id": "gnrtO2sFFIUD"
      }
    },
    {
      "cell_type": "code",
      "source": [
        "k = [[1,2], [1,4], 1, \"Love it\", [1,4]]"
      ],
      "metadata": {
        "id": "-YZilX-5EThu"
      },
      "execution_count": null,
      "outputs": []
    },
    {
      "cell_type": "code",
      "source": [
        "k[0]"
      ],
      "metadata": {
        "colab": {
          "base_uri": "https://localhost:8080/"
        },
        "id": "IfkTLx9tEX2Y",
        "outputId": "3e456e88-8390-47ae-cebf-cdd1f4d79f5a"
      },
      "execution_count": null,
      "outputs": [
        {
          "output_type": "execute_result",
          "data": {
            "text/plain": [
              "[1, 2]"
            ]
          },
          "metadata": {},
          "execution_count": 11
        }
      ]
    },
    {
      "cell_type": "code",
      "source": [
        "k[1]"
      ],
      "metadata": {
        "colab": {
          "base_uri": "https://localhost:8080/"
        },
        "id": "8Lzt7RC5Eh9c",
        "outputId": "fbb14c12-baf4-4808-bf1e-860a835a3672"
      },
      "execution_count": null,
      "outputs": [
        {
          "output_type": "execute_result",
          "data": {
            "text/plain": [
              "[1, 4]"
            ]
          },
          "metadata": {},
          "execution_count": 12
        }
      ]
    },
    {
      "cell_type": "code",
      "source": [
        "k[2]"
      ],
      "metadata": {
        "colab": {
          "base_uri": "https://localhost:8080/"
        },
        "id": "0XU0XrBxEmhV",
        "outputId": "96e4ba86-d6a6-4418-e649-92b564edee2e"
      },
      "execution_count": null,
      "outputs": [
        {
          "output_type": "execute_result",
          "data": {
            "text/plain": [
              "1"
            ]
          },
          "metadata": {},
          "execution_count": 14
        }
      ]
    },
    {
      "cell_type": "code",
      "source": [
        "k[3]"
      ],
      "metadata": {
        "colab": {
          "base_uri": "https://localhost:8080/",
          "height": 36
        },
        "id": "aLPHCIiQEsV1",
        "outputId": "58b60ef5-13e4-43ff-b022-ac5155471ba4"
      },
      "execution_count": null,
      "outputs": [
        {
          "output_type": "execute_result",
          "data": {
            "text/plain": [
              "'Love it'"
            ],
            "application/vnd.google.colaboratory.intrinsic+json": {
              "type": "string"
            }
          },
          "metadata": {},
          "execution_count": 16
        }
      ]
    },
    {
      "cell_type": "code",
      "source": [
        "k[4]"
      ],
      "metadata": {
        "colab": {
          "base_uri": "https://localhost:8080/"
        },
        "id": "HXBjPsgyE-QM",
        "outputId": "63a4f9b6-e4e4-4dd7-ddf4-3337342e0f30"
      },
      "execution_count": null,
      "outputs": [
        {
          "output_type": "execute_result",
          "data": {
            "text/plain": [
              "[1, 4]"
            ]
          },
          "metadata": {},
          "execution_count": 18
        }
      ]
    },
    {
      "cell_type": "markdown",
      "source": [],
      "metadata": {
        "id": "Z7Y6ItMe_TYl"
      }
    },
    {
      "cell_type": "code",
      "source": [
        "l = [1,1,1,1]"
      ],
      "metadata": {
        "id": "qj0oKGH7FBFa"
      },
      "execution_count": null,
      "outputs": []
    },
    {
      "cell_type": "code",
      "source": [
        "k[2]"
      ],
      "metadata": {
        "colab": {
          "base_uri": "https://localhost:8080/"
        },
        "id": "HhM1S0sOFD-u",
        "outputId": "4c9b146c-96e5-4e56-bcfb-847a20112a26"
      },
      "execution_count": null,
      "outputs": [
        {
          "output_type": "execute_result",
          "data": {
            "text/plain": [
              "1"
            ]
          },
          "metadata": {},
          "execution_count": 20
        }
      ]
    }
  ]
}